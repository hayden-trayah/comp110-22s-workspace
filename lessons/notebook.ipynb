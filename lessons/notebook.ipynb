{
 "cells": [
  {
   "cell_type": "markdown",
   "metadata": {},
   "source": [
    "# Demo Jupyter Notebook\n",
    "\n",
    "This notebook will exemplify **some** of the common use cases in Python Jupyter Notebooks."
   ]
  },
  {
   "cell_type": "code",
   "execution_count": 8,
   "metadata": {},
   "outputs": [
    {
     "name": "stdout",
     "output_type": "stream",
     "text": [
      "Sup little bitch, heard your name was Hayden\n"
     ]
    }
   ],
   "source": [
    "name: str = \"Hayden\"\n",
    "print(f\"Sup little bitch, heard your name was {name}\")"
   ]
  },
  {
   "cell_type": "markdown",
   "metadata": {},
   "source": [
    "## Formatting Markdown Notes\n",
    "\n",
    "* You can have lists\n",
    "* You can have [links - such as to a markdown cheat sheet](https://www.markdownguide.org/cheat-sheet/)\n"
   ]
  },
  {
   "cell_type": "code",
   "execution_count": 9,
   "metadata": {},
   "outputs": [
    {
     "name": "stdout",
     "output_type": "stream",
     "text": [
      "Another reference to Hayden made in this cell.\n"
     ]
    }
   ],
   "source": [
    "print(f\"Another reference to {name} made in this cell.\")"
   ]
  },
  {
   "cell_type": "markdown",
   "metadata": {},
   "source": [
    "## Useful Keyboard Shortcuts\n",
    "\n",
    "1. `Control+Enter` Execute a cell and leave focus / cursor in that cell\n",
    "2. `Shift+Enter` Execute a cell and move to the next cell (or create a new call at the end)\n",
    "\n"
   ]
  },
  {
   "cell_type": "code",
   "execution_count": 10,
   "metadata": {},
   "outputs": [
    {
     "name": "stdout",
     "output_type": "stream",
     "text": [
      "Some important computation..\n"
     ]
    },
    {
     "data": {
      "text/plain": [
       "201110.0"
      ]
     },
     "execution_count": 10,
     "metadata": {},
     "output_type": "execute_result"
    }
   ],
   "source": [
    "print(\"Some important computation..\")\n",
    "total: float = 110.0 + 1000.0\n",
    "total + 200000.0"
   ]
  },
  {
   "cell_type": "markdown",
   "metadata": {},
   "source": [
    "## Expressions written as the last line of a cell are automatically output\n",
    "\n",
    "This is very handy for not needing to cal the `print` function at the end of every cell."
   ]
  },
  {
   "cell_type": "markdown",
   "metadata": {},
   "source": [
    "## Example of Importing a Module"
   ]
  },
  {
   "cell_type": "code",
   "execution_count": 11,
   "metadata": {},
   "outputs": [
    {
     "data": {
      "text/plain": [
       "3"
      ]
     },
     "execution_count": 11,
     "metadata": {},
     "output_type": "execute_result"
    }
   ],
   "source": [
    "import notebook_helpers\n",
    "notebook_helpers.add_two_ints(1, 2)"
   ]
  },
  {
   "cell_type": "code",
   "execution_count": 12,
   "metadata": {},
   "outputs": [
    {
     "data": {
      "text/plain": [
       "30"
      ]
     },
     "execution_count": 12,
     "metadata": {},
     "output_type": "execute_result"
    }
   ],
   "source": [
    "from notebook_helpers import add_two_ints\n",
    "add_two_ints(10, 20)"
   ]
  }
 ],
 "metadata": {
  "interpreter": {
   "hash": "46b1e9689de225d2bf449ead0d72ed4371d8a881efc59a885b0b4fcba88517d1"
  },
  "kernelspec": {
   "display_name": "Python 3.10.1 64-bit",
   "language": "python",
   "name": "python3"
  },
  "language_info": {
   "codemirror_mode": {
    "name": "ipython",
    "version": 3
   },
   "file_extension": ".py",
   "mimetype": "text/x-python",
   "name": "python",
   "nbconvert_exporter": "python",
   "pygments_lexer": "ipython3",
   "version": "3.10.1"
  },
  "orig_nbformat": 4
 },
 "nbformat": 4,
 "nbformat_minor": 2
}
