{
 "cells": [
  {
   "cell_type": "markdown",
   "metadata": {},
   "source": [
    "## Part 1: Creative Ideation:\n",
    "1) Students: Using data from the student survey, analyze responses to determine if flipped classrooms are ideal for students and if this instruction style is ideal for future learning.\n",
    "\n",
    "2) Students: Create a streamlined peer connection program to match students together in COMP 110 for studying, review, and conceptual help. Many students do not know others in the course and may get more help from peer connections for review, strategizing, or friendship building rather than office hours or tutoring.\n",
    "\n",
    "3) Societal Workforce: Create projects or exercises that are directly connected to real-world scenerios or actual coding interview questions to prepare students to meet the demands of employers and excel in the workforce broadly. While COMP 110 does prepare students well already, it would be engaging for students to work on specific examples from actual firms to connect their learning to a real-world scenerio.\n",
    "\n",
    "4) Instructional Staff: Implement multiple check-in surveys throughout the semester that offer very small amounts of extra credit as incentive to see what subjects students are confused about, what parts of the course are succeeding, or what things are not going well. COMP 110 currently has a feedback mechanism, but implementing a small incentive to gather more student data could enhance course refinement strategies and stay in-tune with students even more.\n",
    "\n",
    "5) Acedemic Institution: Add a section to comp110.com that showcases the work of students, such as turtle drawings or other interesting projects, to advertise the cool things you can do in the course and the success of students who take it. This could encourage more students to take the course and highlight the interesting things UNC students are doing. This can improve the overall skills of students, improving their outcomes which helps UNC and helps grow their broader focus on data science.\n"
   ]
  },
  {
   "cell_type": "markdown",
   "metadata": {},
   "source": [
    "## Part 2: Identifying Missing Data:\n",
    "The potential usefulness of my second idea to create a peer connection program for COMP 110 could be tested by collecting additional student data via surveying. Students could be asked directly to rate their interest in the creation of a peer-connection program to match peers for studying, review, or networking purposes. Students could also be polled on their current level of connection with other students and their interest in networking with COMP 110 peers. These factors provide useful information for gauging the demand for a peer-connection program to weigh its potential benefits with the cost of implementation. One could factor in existing data on the usefulness of tutoring and office hours into the decision to expand course resources to see if students are satisfied with current options."
   ]
  },
  {
   "cell_type": "markdown",
   "metadata": {},
   "source": [
    "## Part 3: Choosing My Analysis:\n",
    "I have chosen my first idea to analyze student responses from the flipped_class column to determine if flipped classrooms are ideal for students and if this instruction style should continue. Specifically, the survey question asked students if Tuesdays became required in-person synchronous classes, if they would be willing to watch videos and complete lessons to prepare for Tuesday's lectures. While this question inquiries about a theoretical change, it provides useful insight to students preferences for this instruction method. Currently, COMP 110 functions largely as a flipped classroom with emphasis on practice and application during our in-person lectures on Thursdays, so this question is still relevent to the current iteration of the course. This question is important for creating value because the instruction method of a course has a direct and significant impact on the learning outcomes of students. Changing the instruction method would involve a significant logistical change to the course and impact the course experience signficantly. Therefore, I will analyze this response question to understand student interest in flipped classrooms to see if this instruction method should continue, given that COMP 110 becomes fully synchronous."
   ]
  },
  {
   "cell_type": "code",
   "execution_count": 2,
   "metadata": {},
   "outputs": [],
   "source": [
    "from data_utils import read_csv_rows, columnar, head, select, count\n"
   ]
  },
  {
   "cell_type": "markdown",
   "metadata": {},
   "source": [
    "## read_csv_rows\n",
    "First, I will use the read_csv_rows function to convert the survey.csv file into a useable form in python. This function converts the csv data into a list of rows with each row being represented as a dictionary with keys and values of the string data type. We will later modify and filter the result of this function call for the purposes of our analysis."
   ]
  },
  {
   "cell_type": "code",
   "execution_count": 3,
   "metadata": {},
   "outputs": [],
   "source": [
    "data = read_csv_rows(\"../../data/survey.csv\")"
   ]
  },
  {
   "cell_type": "markdown",
   "metadata": {},
   "source": [
    "## columnar\n",
    "The columnar function converts the result of read_csv_rows, a list of rows represented as dictionaries of the form `dict[str, str]`,  into a dictionary of columns with the form `dict[str, list[str]]`. The keys of this new dictionary are the headers of our survey columns (i.e. year, unc_status, comp_major, etc.) with values as lists of strings representing every value contained within that column. This modification orients our data into a column-wise orientation which is useful for the following steps in my analysis. "
   ]
  },
  {
   "cell_type": "code",
   "execution_count": 4,
   "metadata": {},
   "outputs": [],
   "source": [
    "data_rows = columnar(data)"
   ]
  },
  {
   "cell_type": "markdown",
   "metadata": {},
   "source": [
    "## head\n",
    "The head function produces a column-oriented table of the form `dict[str, list[str]]`, derived from the previous two functions, with only the N (parameter) first rows for each column. This function is useful in our analysis for taking a smaller look into our entries for flipped_class to get a general glimpse rather than observing every entry."
   ]
  },
  {
   "cell_type": "code",
   "execution_count": 5,
   "metadata": {},
   "outputs": [
    {
     "name": "stdout",
     "output_type": "stream",
     "text": [
      "{'row': ['0', '1', '2', '3', '4', '5', '6', '7', '8', '9'], 'year': ['22', '25', '25', '24', '25', '25', '25', '24', '25', '22'], 'unc_status': ['Returning UNC Student', 'Returning UNC Student', 'Incoming First-year Student', 'Returning UNC Student', 'Incoming First-year Student', 'Incoming First-year Student', 'Incoming First-year Student', 'Returning UNC Student', 'Incoming First-year Student', 'Returning UNC Student'], 'comp_major': ['No', 'No', 'Yes - BA', 'Yes - BS', 'Yes - BA', 'Yes - BS', 'Yes - BA', 'Yes - BA', 'Yes - BS', 'No'], 'primary_major': ['Mathematics', 'Mathematics', 'Computer Science', 'Computer Science', 'Computer Science', 'Computer Science', 'Computer Science', 'Neuroscience', 'Computer Science', 'Neuroscience'], 'data_science': ['No', 'Yes', 'No', 'Maybe', 'No', 'Maybe', 'Yes', 'No', 'Yes', 'No'], 'prereqs': ['MATH 233, MATH 347, MATH 381', 'MATH 130, MATH 231, STOR 155', 'MATH 130, MATH 152, MATH 210', 'MATH 231, MATH 232, STOR 155', 'MATH 130', 'MATH 129P, MATH 231, MATH 232, STOR 155', 'MATH 129P, MATH 130', 'MATH 130, MATH 152, MATH 231, MATH 232, MATH 233, MATH 381, PSYC 210, STOR 155', 'STOR 120', 'MATH 130, MATH 231, MATH 232, PSYC 210'], 'prior_exp': ['7-12 months', 'None to less than one month!', 'None to less than one month!', '2-6 months', 'None to less than one month!', '2-6 months', '2-6 months', 'None to less than one month!', 'None to less than one month!', 'None to less than one month!'], 'ap_principles': ['No', '', '', 'No', '', 'No', 'Yes', '', '', ''], 'ap_a': ['No', '', '', 'No', '', 'No', 'No', '', '', ''], 'other_comp': ['UNC', '', '', 'High school course (IB or other)', '', 'High school course (IB or other)', 'High school course (IB or other)', '', '', ''], 'prior_time': ['1 month or so', '', '', 'None to less than one month!', '', '1 month or so', '7-12 months', '', '', ''], 'languages': ['Python, R / Matlab / SAS', '', '', 'Python', '', 'Python, Java / C#, JavaScript / TypeScript, HTML / CSS', 'Python, Java / C#, JavaScript / TypeScript, HTML / CSS, Bash', '', '', ''], 'hours_online_social': ['3 to 5 hours', '0 to 2 hours', '3 to 5 hours', '3 to 5 hours', '0 to 2 hours', '10+ hours', '3 to 5 hours', '5 to 10 hours', '0 to 2 hours', '3 to 5 hours'], 'hours_online_work': ['0 to 2 hours', '5 to 10 hours', '5 to 10 hours', '3 to 5 hours', '3 to 5 hours', '5 to 10 hours', '5 to 10 hours', '5 to 10 hours', '10+ hours', '5 to 10 hours'], 'lesson_time': ['6', '4', '3', '5', '7', '5', '5', '1', '1', '5'], 'sync_perf': ['2', '3', '3', '5', '3', '2', '3', '2', '5', '2'], 'all_sync': ['2', '3', '4', '4', '3', '2', '3', '2', '4', '2'], 'flipped_class': ['1', '1', '2', '3', '3', '2', '5', '1', '6', '1'], 'no_hybrid': ['2', '2', '1', '3', '2', '1', '3', '1', '5', '1'], 'own_notes': ['4', '6', '7', '6', '6', '5', '7', '7', '7', '7'], 'own_examples': ['4', '4', '7', '5', '3', '5', '7', '7', '7', '7'], 'oh_visits': ['0', '5', '2', '1', '5', '0', '2', '0', '1', '2'], 'ls_effective': ['7', '5', '5', '6', '6', '7', '7', '7', '7', '7'], 'lsqs_effective': ['3', '5', '6', '3', '6', '7', '5', '7', '7', '5'], 'programming_effective': ['7', '5', '7', '5', '6', '7', '7', '7', '7', '7'], 'qz_effective': ['5', '5', '7', '5', '6', '7', '5', '7', '7', '7'], 'oh_effective': ['', '7', '4', '5', '7', '', '4', '7', '7', '7'], 'tutoring_effective': ['', '6', '', '4', '3', '', '4', '', '7', ''], 'pace': ['1', '6', '6', '4', '6', '4', '4', '4', '5', '7'], 'difficulty': ['1', '6', '4', '4', '5', '3', '4', '4', '4', '4'], 'understanding': ['7', '3', '6', '5', '5', '6', '6', '7', '6', '6'], 'interesting': ['5', '4', '7', '6', '6', '7', '7', '7', '7', '7'], 'valuable': ['6', '6', '7', '6', '6', '7', '7', '7', '7', '7'], 'would_recommend': ['5', '4', '7', '6', '7', '7', '7', '7', '7', '7']}\n"
     ]
    }
   ],
   "source": [
    "print(head(data_rows, 10))"
   ]
  },
  {
   "cell_type": "markdown",
   "metadata": {},
   "source": [
    "## select\n",
    "The select function produces a new column-oriented table of the form `dict[str, list[str]]`, containing a specified subset of the original columns in our data. For my analysis, I will specify the flipped_class column as a parameter in the function call since this column contains the data I am specifically analyzing. "
   ]
  },
  {
   "cell_type": "code",
   "execution_count": 6,
   "metadata": {},
   "outputs": [
    {
     "name": "stdout",
     "output_type": "stream",
     "text": [
      "{'flipped_class': ['1', '1', '2', '3', '3', '2', '5', '1', '6', '1', '7', '3', '4', '4', '3', '6', '1', '1', '6', '1', '1', '2', '1', '3', '7', '1', '1', '2', '1', '3', '2', '5', '2', '1', '2', '4', '6', '1', '6', '1', '4', '3', '1', '3', '5', '5', '1', '2', '2', '2', '2', '1', '2', '1', '3', '1', '1', '1', '6', '2', '1', '1', '3', '3', '7', '4', '4', '1', '1', '1', '1', '5', '1', '4', '2', '3', '1', '1', '2', '1', '1', '1', '3', '1', '1', '4', '4', '3', '1', '2', '2', '7', '3', '7', '7', '5', '1', '1', '3', '4', '7', '2', '7', '1', '2', '1', '1', '1', '3', '4', '1', '1', '1', '4', '3', '2', '2', '1', '4', '4', '3', '6', '2', '5', '1', '2', '2', '4', '6', '1', '5', '7', '3', '3', '1', '1', '2', '6', '3', '2', '1', '2', '3', '3', '4', '7', '2', '5', '2', '1', '2', '4', '1', '1', '1', '2', '1', '4', '2', '2', '7', '2', '1', '7', '5', '1', '1', '3', '5', '4', '1', '3', '1', '1', '4', '1', '1', '1', '5', '2', '1', '5', '1', '2', '1', '5', '5', '3', '3', '6', '5', '6', '5', '2', '3', '2', '4', '7', '2', '2', '3', '1', '3', '1', '5', '4', '4', '2', '5', '7', '4', '1', '1', '6', '2', '4', '6', '3', '2', '2', '4', '5', '2', '4', '1', '7', '7', '6', '1', '1', '7', '1', '4', '1', '1', '4', '5', '1', '1', '3', '4', '3', '3', '2', '2', '2', '3', '1', '3', '7', '3', '2', '2', '6', '5', '2', '1', '7', '7', '6', '1', '5', '6', '2', '5', '1', '5', '1', '3', '4', '2', '4', '2', '2', '1', '4', '5', '1', '3', '5', '7', '2', '3', '4', '2', '4', '2', '3', '4', '1', '5', '2', '2', '2', '2', '2', '3', '1', '1', '4', '1', '4', '2', '7', '1', '4', '4', '3', '4', '1', '3', '6', '3', '2', '1', '5', '5', '6', '1', '1', '3', '4', '4', '3', '5', '4', '2', '1', '1', '2', '6', '3', '4', '2', '2', '1', '2', '1', '5', '4', '4', '1', '5', '4', '5', '1', '2', '1', '2', '3', '5', '2', '2', '1', '4', '6', '2', '5', '3', '1', '4', '6', '1', '4', '7', '2', '7', '2', '4', '2', '2', '4', '3', '5', '2', '3', '2', '3', '1', '7', '5', '2', '4', '4', '1', '1', '4', '6', '3', '5', '1', '1', '2', '5', '2', '6', '7', '1', '1', '2', '2', '1', '1', '3', '3', '5', '5', '5', '3', '4', '3', '7', '5', '3', '7', '2', '2', '1', '1', '2', '4', '4', '4', '4', '4', '3', '2', '3', '1', '1', '3', '2', '1', '3', '4', '7', '1', '3', '5', '2', '3', '1', '2', '1', '2', '5', '1', '1', '1', '5', '2', '2', '4', '6', '1', '3', '1', '1', '2', '1', '2', '4', '6', '3', '2', '5', '6', '1', '7', '2', '1', '1', '4', '1', '5', '2', '5', '1', '3', '1', '4', '4', '1', '6', '4', '2', '1', '3', '1', '2', '3', '4', '1', '5', '1', '1', '3', '1', '7', '1', '6', '3', '4', '1', '4', '4', '7', '1', '3', '7', '4', '3', '1', '2', '1', '4', '3', '3', '2', '1', '3', '3', '2', '1', '3', '3', '5', '3', '2', '5', '1', '1', '6', '1', '3', '1', '2', '1', '3', '3', '1', '3', '2', '1', '5', '1', '2', '3', '2', '6', '5', '2', '2', '1', '2', '1', '4', '7', '5', '3', '2', '6', '1', '3', '5', '1', '6', '1', '7', '1', '2', '2', '1', '2', '2', '1', '1', '6', '3', '4', '2', '3', '4', '1', '7', '3', '4', '4', '2', '6', '1', '1', '2', '5', '2', '2', '6', '3', '1', '3', '5', '1', '5', '6', '6', '2', '3', '5', '1', '1', '2', '2', '4', '4', '4', '7', '6', '1', '1', '7']}\n"
     ]
    }
   ],
   "source": [
    "flipped_classroom_data = select(data_rows, [\"flipped_class\"])\n",
    "print(flipped_classroom_data)"
   ]
  },
  {
   "cell_type": "markdown",
   "metadata": {},
   "source": [
    "## count\n",
    "Given a list of strings (`list[str]`), the count function produces a `dict[str, int]` with keys representing the entries of the inputted list with associated values representing their frequency in the list. This function is very useful for determining the frequency of student responses to the flipped_class question (responses of 1 through 7), producing a dictionary containing the targetted data in my analysis."
   ]
  },
  {
   "cell_type": "code",
   "execution_count": 7,
   "metadata": {},
   "outputs": [
    {
     "name": "stdout",
     "output_type": "stream",
     "text": [
      "{'1': 177, '2': 127, '3': 95, '5': 61, '6': 39, '7': 38, '4': 83}\n"
     ]
    }
   ],
   "source": [
    "plot_data = count(flipped_classroom_data[\"flipped_class\"])\n",
    "print(plot_data)\n"
   ]
  },
  {
   "cell_type": "markdown",
   "metadata": {},
   "source": [
    "## Helper Function: key_order\n",
    "The key_order helper function is useful for displaying data created from the count function in an ordered manner in my graph. This function starts by creating a new list of the keys from the input_dict parameter and converts the strings to integers. It then sorts the new list from least to greatest. Finally, the for loop adds the key_list items as keys to the output_dict and associates values based on the associated values from the input_dict parameter. This results in a new dictionary that is a least-to-greatest ordering of the input_dict keys. This helps display the responses from least to greatest, making my graphical representation more ordered."
   ]
  },
  {
   "cell_type": "code",
   "execution_count": 8,
   "metadata": {},
   "outputs": [],
   "source": [
    "def key_order(input_dict: dict[str, int]) -> dict[str, int]:\n",
    "    \"\"\"Orders the keys of an input dictionary from least to greatest.\"\"\"\n",
    "    key_list: list[int] = [int(key) for key in input_dict.keys()]\n",
    "    key_list.sort()\n",
    "    output_dict: dict[str, int] = {}\n",
    "    for item in key_list:\n",
    "        output_dict[str(item)] = input_dict[str(item)]\n",
    "    return output_dict\n",
    "\n"
   ]
  },
  {
   "cell_type": "code",
   "execution_count": 9,
   "metadata": {},
   "outputs": [
    {
     "data": {
      "text/plain": [
       "<function matplotlib.pyplot.show(close=None, block=None)>"
      ]
     },
     "execution_count": 9,
     "metadata": {},
     "output_type": "execute_result"
    },
    {
     "data": {
      "image/png": "[encoded data removed]",
      "text/plain": [
       "<Figure size 432x288 with 1 Axes>"
      ]
     },
     "metadata": {
      "needs_background": "light"
     },
     "output_type": "display_data"
    }
   ],
   "source": [
    "## Graphical Representation\n",
    "from matplotlib import pyplot as plt\n",
    "\n",
    "\n",
    "plot_data = key_order(plot_data)\n",
    "\n",
    "plt.bar(range(1, 8), list(plot_data.values()))\n",
    "plt.title(\"Flipped Classroom Preferences of COMP 110 Students\")\n",
    "plt.xticks(range(1, 8), list(plot_data.keys()))\n",
    "plt.xlabel(\"1 - strongly disagree, 7 - strongly agree\")\n",
    "plt.ylabel(\"frequency\")\n",
    "plt.show"
   ]
  },
  {
   "cell_type": "markdown",
   "metadata": {},
   "source": [
    "## Analysis\n",
    "According to my analysis of responses to the flipped_class survey question, we see that a majority of students would not be willing to watch videos and complete lessons as homework over the weekend and Mondays to prepare for Tuesday lectures if they were in person. Specifically, 399/620 or 64.35% of responses were 1, 2, or 3, indicating general disagreement with the notion proposed in the survey question. Futhermore, 138/620 or 22.26% of responses were 5, 6, or 7, representing nearly 1/3 of the response count of those who expressed disagreement, supporting the notion that students disgree with the proposed change. \n",
    "\n"
   ]
  },
  {
   "cell_type": "markdown",
   "metadata": {},
   "source": [
    "## Conclusion\n",
    "This analysis has provided insight into student preferences for a flipped classroom instruction style for COMP 110. I have outlined some confounding factors and potential reasons for the responses of students to paint a broader picture of our data. My original \n",
    "\n",
    "Observations:\n",
    "1) In my opinion, this question could imply to a respondant that more work will be involved in COMP 110 if this adjustment were to occur. This inference could be made because we currently watch long lesson videos in place of a synchronous, in-person Tuesday lectures. If we were to continue watching videos in addition to practicing in class on Tuesday, students may disgree with adding more work in the form of in-class practice on Tuesday in addition to asynchronous lessons. Perhaps if the question were to include a clause that overall workload would remain the same through a reduction of videos to compensate for in-person class, the distribution would possibly take a more normal form as the workload factor would diminish. However, the true implementation of the proposed adjustment would determine if workload would truly increase overall or not, meaning this clause could be pointless and inaccurate.\n",
    "2) Regardless of my assertion in the comment above, we see that more students are in favor of retaining the current structure of COMP 110. This could result from the advantages of the current system, including lower logistic constraints of attending class once per-week, greater flexibility in our instruction times (asynchronous), and perhaps an aversion to more structured in-class practice, regardless of its effectiveness as a teaching tool.\n",
    "\n",
    "Potential Costs and Tradeoffs:\n",
    "Considering the implementation of a flipped classroom, maintaining the current structure is easier on the instructors as recorded videos take the place for lecturing in class, reducing necessary effort. The extent of a flipped classroon is a spectrum, and current structure of COMP 110 is mostly a flipped classroom. However, the proposed shift would require more planning from the instructors and greater effort for students to watch videos in tandem with an an additional in-person lecture. However, the results indicate that students prefer maintaining the current structure, so these changes would additionally go against student preferences, representing an additional trade-off. Additionally, stepping away from a flipped classroom means the lesson videos would be underutilized which would be a loss of useful resources for the course.\n",
    "\n",
    "Refinements:\n",
    "To improve the quality of insights regarding the ideal class structure, the instructors could propose experiments where different 'levels' or extents of flipped classrooms are implemented in different sections. For example, one section or semester could be the current structure while the next section/semester uses the proposed implementation. You could then analyze student performance and poll their preferences and experiences across sections to determine which structure is ideal to maintain. However, this would introduce inequality among sections which could be concerning, so experiments could be conducted between semesters rather than between sections to maintain equality between sections. \n"
   ]
  }
 ],
 "metadata": {
  "interpreter": {
   "hash": "46b1e9689de225d2bf449ead0d72ed4371d8a881efc59a885b0b4fcba88517d1"
  },
  "kernelspec": {
   "display_name": "Python 3.10.1 64-bit",
   "language": "python",
   "name": "python3"
  },
  "language_info": {
   "codemirror_mode": {
    "name": "ipython",
    "version": 3
   },
   "file_extension": ".py",
   "mimetype": "text/x-python",
   "name": "python",
   "nbconvert_exporter": "python",
   "pygments_lexer": "ipython3",
   "version": "3.10.1"
  },
  "orig_nbformat": 4
 },
 "nbformat": 4,
 "nbformat_minor": 2
}
